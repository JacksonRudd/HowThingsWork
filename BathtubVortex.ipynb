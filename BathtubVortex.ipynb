{
 "cells": [
  {
   "cell_type": "markdown",
   "metadata": {},
   "source": [
    "# Bathtub Vortex"
   ]
  },
  {
   "cell_type": "markdown",
   "metadata": {},
   "source": [
    "We can understand the water vortex in two parts. The first being: Why does water spin around the drain, and the second being: Why does spinning around a drain cause a tornado shape.\n",
    "\n",
    "\n",
    "For the first half, we can think of opening the drain as a force which pulls all of the water particles towards the center. Since in general, angular momentum is preserved, if a volume of fluid approaches the drain with angular momentum, <em>it must speed up to preserve its angular momentum.</em> A similar affect can be seen when dropping a penny into a penny vortex.\n",
    "\n",
    "\n",
    "After many&nbsp;collisions, the water chooses a direction to spin, this is similar to the reasoning behind&nbsp;all of the planets going around the sun in the same direction. If there is not enough angular momentum to begin with, the collisions will cancel out and the water will not make a vortex, this can be shown by symmetry.\n",
    "\n",
    "\n",
    "Now for the tornado&nbsp;shape. We assume that the fluid is fairly irrotational and incompressible, except perhaps very close to the center. Then&nbsp;a&nbsp;circle path&nbsp;integral around the vortex will not depend on radius of the vortex, as long as we are not too close to it, by Stokes Theorem. Since the path is proportional to the average velocity times the radius, and this value is constant, we get that <em>the average velocity is inversely proportional to the radius.&nbsp;</em>\n",
    "\n",
    "\n",
    "Lastly we look to Bernoulli's Equation for incompressible flows, which &nbsp;says that at the surface of the water, at atmospheric pressure, that the energy of the water must be constant. We know that the kinetic energy grows as a radius shrinks from the last paragraph, so the potential energy, must shrink to keep up with it. Therefore the height of the water must shrink as we approach the drain.\n"
   ]
  },
  {
   "cell_type": "markdown",
   "metadata": {},
   "source": []
  }
 ],
 "metadata": {
  "kernelspec": {
   "display_name": "Python 3",
   "language": "python",
   "name": "python3"
  },
  "language_info": {
   "codemirror_mode": {
    "name": "ipython",
    "version": 3
   },
   "file_extension": ".py",
   "mimetype": "text/x-python",
   "name": "python",
   "nbconvert_exporter": "python",
   "pygments_lexer": "ipython3",
   "version": "3.6.7"
  }
 },
 "nbformat": 4,
 "nbformat_minor": 2
}
