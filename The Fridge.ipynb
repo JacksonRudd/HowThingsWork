{
 "cells": [
  {
   "cell_type": "markdown",
   "metadata": {},
   "source": [
    "# The Fridge"
   ]
  },
  {
   "cell_type": "markdown",
   "metadata": {},
   "source": [
    "Open you mouth wide and breath onto your hand. You will notice that the breath on your hand is very warm. Now, try again but close your mouth as tight as possible and pressurize the air in your mouth. The air on your hand is much colder.\n",
    "\n",
    "This is the result of the the Joule-Thomson Effect. Wikipedia describes the Joule-Thomson Effect in the following way:\n",
    "\n",
    "At room temperature, all gases except hydrogen, helium and neon cool upon expansion by the Joule–Thomson process when being throttled through an orifice; these three gases experience the same effect but only at lower temperatures.\n",
    "\n",
    "This effect is used in refrigeration and air conditioning units. If ones wishes to cool food, they simply pressurize a gas (with a compressor), let it cool by running it through some pipes (condenser coils) and then push it through a small hole (an expansion device). By the Joule-Thomson Effect, this will cool down the gas. Then the cool gas is simply run through pipes near whatever must be chilled. Now repeat .\n",
    "\n",
    "The rest of this article will answer one question: Why do some gases cool down when forced through a small hole? Essentially we will find what causes the Joule-Thomson Effect.\n",
    "\n",
    "##Overview\n",
    "\n",
    "\n",
    "First, a quick overview of the basic mechanism: It is easier to move a small unit of gas through the opening then it is for the small unit of gas to make room for itself after the opening. Therefore the gas does more work on its environment then the environment does on the gas, aka the gas cools.\n",
    "\n",
    "\n",
    "\n",
    "The ease of moving the gas through the opening has to do with the attractive forces in the molecules that are present before the gas is pushed through the opening, but not after. The attractive forces make the gas smaller and easier to move. The attractive forces are present beforehand because the gas molecules are close together and therefore are subject to attractive forces. After the opening the attractive forces are not present as the molecules are further apart.&nbsp;\n",
    "\n",
    "\n",
    "\n",
    "To answer the question in more detail, we will look to the product of the gas's pressure and its volume. We will see that the gas gets colder if the Pressure Volume product (PV product) is bigger after the expansion. Therefore to explain the Joule-Thomson Effect we will answer two questions:\n",
    "\n",
    "\n",
    "<!-- wp:list {\"ordered\":true} -->\n",
    "<ol><li>Why does increasing the PV product decrease the temperature?</li><li>Why does the PV product increase on expansion for some gases?</li></ol>\n",
    "<!-- /wp:list -->\n",
    "\n",
    "## Why does increasing the PV product decrease the temperature?\n",
    "\n",
    "The PV product represents the work done by the gas. If the gas has done work on its surroundings then it has lost some of its internal energy and therefore will get colder. Therefore an equivalent statement to JTE is: at low temperatures the PV product of a fluid increases after expansion.\n",
    "\n",
    "![image](https://howeverythingworkshome.files.wordpress.com/2019/01/a21f17f3-a87d-4de2-b148-4e31ac44d230.jpeg)\n",
    "\n",
    "So why does the change in the PV product represent work done by the gas? We refer to the picture above. This is a cubic pipe with width w, and height h. Section A represents the fluid before it is pushed through the small opening, it has a pressure of $P_1$. B Represents the fluid after it has been pushed through the opening, it has a pressure of $P_2$.\n",
    "\n",
    "How much work did it take to move A to B? To move A out of the first pipe a force of it has a force of $P_1 * w * h$ is applied to A over a length of $L_1$. Therefore the total work is $P_1 * w * h* L_1 = P_1*V_1$.\n",
    "\n",
    "\n",
    "Now that A has moved into the second pipe it has to displace some gas already there. How much work did it take to displace the gas. By the same argument we get that the work to displace the air in pipe 2 is $P_2*V_2$.\n",
    "\n",
    "\n",
    "\n",
    "The total work on A is equal to the work done by it minus the work done to it, aka $P_2*V_2 - P_1*V_1 $. So the change in the PV product is the work done by the gas.\n",
    "\n",
    "\n",
    "## Why does the PV product increase on expansion for some gases?\n",
    "\n",
    "\n",
    "So what makes the PV product change for certain gases after expansion? The answer has to do with the attractive forces in molecules. For a gas where molecular attraction is ignorable, an \"ideal\" gas, there is no difference in the temperature after expansion. We must focus therefore on gases that do have attractive forces, aka \"real\" gases.\n",
    "\n",
    "\n",
    "\n",
    "So then why does the PV product change for real gases? It has to do with the attractive and repulsive forces inside of molecules. Say we have pressurized real gas inside of a container. The molecules will be close enough that the attractive forces between them will pull the gas closer together. This will make the PV product smaller than it would be for an ideal gas.\n",
    "\n",
    "\n",
    "\n",
    "Now we must expand this gas and see what happens to the PV product. When the gas expands the molecules will be further apart, which will stop the attractive forces from dominating. Therefore the PV product will be more similar to that of an ideal gas.\n",
    "\n",
    "\n",
    "\n",
    "Since the PV product went from below that of an ideal gas to the same as an ideal gas, the PV product has increased. This means that the gas has done work on its environment, which means that is must have given up some of its heat. The gas has become colder.\n",
    "\n",
    "\n",
    "\n",
    "Some gases must be cooled before the attractive forces dominate. This is why hydrogen, helium and neon&nbsp;must be at below room temperature for the Joule-Thomson Effect to hold. Maybe they would be a good refrigerant on a very cold planet!\n"
   ]
  },
  {
   "cell_type": "code",
   "execution_count": null,
   "metadata": {},
   "outputs": [],
   "source": []
  }
 ],
 "metadata": {
  "kernelspec": {
   "display_name": "Python 3",
   "language": "python",
   "name": "python3"
  },
  "language_info": {
   "codemirror_mode": {
    "name": "ipython",
    "version": 3
   },
   "file_extension": ".py",
   "mimetype": "text/x-python",
   "name": "python",
   "nbconvert_exporter": "python",
   "pygments_lexer": "ipython3",
   "version": "3.6.7"
  }
 },
 "nbformat": 4,
 "nbformat_minor": 2
}
