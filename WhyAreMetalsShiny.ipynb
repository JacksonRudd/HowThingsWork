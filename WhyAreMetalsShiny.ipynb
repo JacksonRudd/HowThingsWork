{
 "cells": [
  {
   "cell_type": "markdown",
   "metadata": {},
   "source": [
    "# Why are Metals Shiny\n"
   ]
  },
  {
   "cell_type": "markdown",
   "metadata": {},
   "source": [
    "\n",
    "Doing some basic vector calculus, one can show that maxwells equations emit a wave equations for the electric and magnetic field respectively. So at first glance we treat the wave as a \"normal\" wave, a water wave for instance.  \n",
    "\n",
    "\n",
    "\n",
    "Using the water wave as an analogy, we would expect that given a wave bouncing off of any given surface that there will be a refracted and reflected wave, and that the direction  of the refracted wave would obey snells law. We can \"derive this\" via the Huygen's principal <a href=\"https://micro.magnet.fsu.edu/primer/java/reflection/huygens/\">argument </a>which states that every point on a traveling wave can be thought of as a source of light. \n",
    "\n",
    "\n",
    "\n",
    "Huygen's Prinicple is interesting and often accompanied by complicated integral formulas which prove the theorem. I imagine that the idea is more intuitive for someone who has built a \"ripple tank\" simulation by discretizing the wave equation. Then we may picture the environment of wave propagation to be similar to an array of  nodes connected by springs, and the \"theorem\" is more intuitive. \n",
    "\n",
    "\n",
    "\n",
    "As intuitive and illuminating as Huygen's Principle is, <a href=\"https://www.nature.com/articles/145531a0\">it does not seem to account for the multiple polarizations of light</a>. So while it might be good intuition for the reflection and transmittance of a scalar wave, it must have a modification for a vector waves. I am not aware of any such modifications, but if I find one I will update this article as I like that explanation. \n",
    "\n",
    "\n",
    "\n",
    "So then, we have no choice but to laborious look to Maxwell's equations in order to get a higher fidelity view on what is really happening when light strike metal. \n",
    "\n",
    "\n",
    "<!-- wp:heading -->\n",
    "<h2>Maxwell's Perspective</h2>\n",
    "<!-- /wp:heading -->\n",
    "\n",
    "\n",
    "Okay, we have some good intuition about how light will behave from the scalar argument based off of Huygen's Principle, or virtually any other wave. Now we must use our guess to see if we can find a solution that satisfies maxwells equation.\n",
    "\n",
    "\n",
    "\n",
    "Our guess leads us to believe that there will be three waves in total, one incident, one reflected and one refracted. Because metal has no internal fields via the faraday cage argument, we can actually leave out the refracted wave. Now, by using the integral form of maxwells equations we can find some boundary conditions on the surface of the metal, which will connect the incoming wave and the reflected wave. \n",
    "\n",
    "\n",
    "\n",
    "We show that if the outgoing wave is also sinusoidal, then by shifting it correctly we can satisfy the boundary conditions. repeat the argument for the other polarization with similar results. This is done for a slightly more general case <a href=\"http://www.feynmanlectures.caltech.edu/II_33.html\">here</a>: \n",
    "\n",
    "\n",
    "\n",
    "So now we have a description of how the sinusoidal basis is reflected. Since there is a uniqueness theorem of electrodynamics given a set of boundary conditions, we know that we have found the one and only solution that the basis vectors of light could obey, and therefore we have the answer. \n"
   ]
  },
  {
   "cell_type": "markdown",
   "metadata": {},
   "source": []
  }
 ],
 "metadata": {
  "kernelspec": {
   "display_name": "Python 3",
   "language": "python",
   "name": "python3"
  },
  "language_info": {
   "codemirror_mode": {
    "name": "ipython",
    "version": 3
   },
   "file_extension": ".py",
   "mimetype": "text/x-python",
   "name": "python",
   "nbconvert_exporter": "python",
   "pygments_lexer": "ipython3",
   "version": "3.6.7"
  }
 },
 "nbformat": 4,
 "nbformat_minor": 2
}
