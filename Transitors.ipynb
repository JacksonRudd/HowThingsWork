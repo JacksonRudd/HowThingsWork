{
 "cells": [
  {
   "cell_type": "markdown",
   "metadata": {},
   "source": [
    "# Differential Amplifier With Transistors\n"
   ]
  },
  {
   "cell_type": "markdown",
   "metadata": {},
   "source": [
    "\n",
    "![image](https://sub.allaboutcircuits.com/images/quiz/03925x01.png)\n",
    "\n",
    "\n",
    "A differential amplifier takes two small inputs, and finds the delta between them. This is a set up where $Vin(-)$ will move against the output and $Vin(+)$ will move with the output.  How does this work? \n",
    "\n",
    "Note that the voltage drop across $Re$ will never change by a significant amount. The voltage at the emitters of the transistors are roughly a voltage drop from the small inputs. Therefore the voltage before the resistors hovers within a few mV of 0.\n",
    "\n",
    "\n",
    "Since the voltage drop does not change, there is a fixed amount of current that goes through the $latex Re$ resistor. Which must be a sum of the current that exits the emitters. Therefore the currents through the collectors must be inverse to each other. \n",
    "\n",
    "\n",
    "\n",
    "Now say that the current through $Vin(+)$ increases. The current through $Q2$ must fall. Therefore $Vout$ must fall, as the resistor above $Vout$ causes change in current to change with voltage. If $Vin(-)$ increases, then again, the resistor will cause $Vout$ to change as well. "
   ]
  },
  {
   "cell_type": "markdown",
   "metadata": {},
   "source": []
  }
 ],
 "metadata": {
  "kernelspec": {
   "display_name": "Python 3",
   "language": "python",
   "name": "python3"
  },
  "language_info": {
   "codemirror_mode": {
    "name": "ipython",
    "version": 3
   },
   "file_extension": ".py",
   "mimetype": "text/x-python",
   "name": "python",
   "nbconvert_exporter": "python",
   "pygments_lexer": "ipython3",
   "version": "3.6.7"
  }
 },
 "nbformat": 4,
 "nbformat_minor": 2
}
